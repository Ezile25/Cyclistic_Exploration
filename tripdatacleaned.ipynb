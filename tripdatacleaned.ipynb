{
 "cells": [
  {
   "cell_type": "code",
   "execution_count": 1,
   "id": "f53b4dff-256b-4f20-a706-1efc13e747a4",
   "metadata": {},
   "outputs": [],
   "source": [
    "import pandas as pd\n",
    "import os\n",
    "import shutil"
   ]
  },
  {
   "cell_type": "code",
   "execution_count": 6,
   "id": "a7392590-48a7-47b7-b07f-73862e1e681e",
   "metadata": {},
   "outputs": [],
   "source": [
    "directory = r\"C:\\Users\\User\\Desktop\\Data analytics\\Cyclist data\"\n",
    "\n",
    "file_names = [\n",
    "    \"202004-divvy-tripdata.csv\",\n",
    "    \"202005-divvy-tripdata.csv\",\n",
    "    \"202006-divvy-tripdata.csv\",\n",
    "    \"202007-divvy-tripdata.csv\",\n",
    "    \"202008-divvy-tripdata.csv\",\n",
    "    \"202009-divvy-tripdata.csv\",\n",
    "    \"202010-divvy-tripdata.csv\",\n",
    "    \"202011-divvy-tripdata.csv\",\n",
    "    \"202012-divvy-tripdata.csv\",\n",
    "    \"202101-divvy-tripdata.csv\",\n",
    "    \"202102-divvy-tripdata.csv\",\n",
    "    \"202103-divvy-tripdata.csv\"\n",
    "]\n",
    "# empty DataFrame\n",
    "combined_df = pd.DataFrame()\n",
    "\n",
    "# Loop through each file, read it, and append to the combined DataFrame\n",
    "for file_name in file_names:\n",
    "    file_path = os.path.join(directory, file_name)\n",
    "    df = pd.read_csv(file_path)\n",
    "    combined_df = pd.concat([combined_df, df], ignore_index=True)\n",
    "    \n",
    "output_path = r\"C:\\Users\\User\\Desktop\\Data analytics\\Cyclist data\\combined_divvy_tripdata.csv\"\n",
    "combined_df.to_csv(output_path, index=False)\n"
   ]
  },
  {
   "cell_type": "code",
   "execution_count": 8,
   "id": "0dcd560d-ca4b-418f-9946-6cc38f3857e7",
   "metadata": {},
   "outputs": [
    {
     "data": {
      "text/html": [
       "<a href='combined_divvy_tripdata.csv' target='_blank'>combined_divvy_tripdata.csv</a><br>"
      ],
      "text/plain": [
       "C:\\Users\\User\\combined_divvy_tripdata.csv"
      ]
     },
     "execution_count": 8,
     "metadata": {},
     "output_type": "execute_result"
    }
   ],
   "source": [
    "# Copy the file to a downloadable location (if needed)\n",
    "shutil.copy(output_path, 'combined_divvy_tripdata.csv')\n",
    "\n",
    "from IPython.display import FileLink\n",
    "\n",
    "# Create a download link\n",
    "FileLink('combined_divvy_tripdata.csv')"
   ]
  },
  {
   "cell_type": "code",
   "execution_count": 9,
   "id": "c5d398c3-cbee-4127-8948-77d1a8d4769e",
   "metadata": {},
   "outputs": [
    {
     "data": {
      "text/html": [
       "<div>\n",
       "<style scoped>\n",
       "    .dataframe tbody tr th:only-of-type {\n",
       "        vertical-align: middle;\n",
       "    }\n",
       "\n",
       "    .dataframe tbody tr th {\n",
       "        vertical-align: top;\n",
       "    }\n",
       "\n",
       "    .dataframe thead th {\n",
       "        text-align: right;\n",
       "    }\n",
       "</style>\n",
       "<table border=\"1\" class=\"dataframe\">\n",
       "  <thead>\n",
       "    <tr style=\"text-align: right;\">\n",
       "      <th></th>\n",
       "      <th>ride_id</th>\n",
       "      <th>rideable_type</th>\n",
       "      <th>started_at</th>\n",
       "      <th>ended_at</th>\n",
       "      <th>start_station_name</th>\n",
       "      <th>start_station_id</th>\n",
       "      <th>end_station_name</th>\n",
       "      <th>end_station_id</th>\n",
       "      <th>start_lat</th>\n",
       "      <th>start_lng</th>\n",
       "      <th>end_lat</th>\n",
       "      <th>end_lng</th>\n",
       "      <th>member_casual</th>\n",
       "    </tr>\n",
       "  </thead>\n",
       "  <tbody>\n",
       "    <tr>\n",
       "      <th>0</th>\n",
       "      <td>A847FADBBC638E45</td>\n",
       "      <td>docked_bike</td>\n",
       "      <td>4/26/2020 17:45</td>\n",
       "      <td>4/26/2020 18:12</td>\n",
       "      <td>Eckhart Park</td>\n",
       "      <td>86.0</td>\n",
       "      <td>Lincoln Ave &amp; Diversey Pkwy</td>\n",
       "      <td>152.0</td>\n",
       "      <td>41.8964</td>\n",
       "      <td>-87.6610</td>\n",
       "      <td>41.9322</td>\n",
       "      <td>-87.6586</td>\n",
       "      <td>member</td>\n",
       "    </tr>\n",
       "    <tr>\n",
       "      <th>1</th>\n",
       "      <td>5405B80E996FF60D</td>\n",
       "      <td>docked_bike</td>\n",
       "      <td>4/17/2020 17:08</td>\n",
       "      <td>4/17/2020 17:17</td>\n",
       "      <td>Drake Ave &amp; Fullerton Ave</td>\n",
       "      <td>503.0</td>\n",
       "      <td>Kosciuszko Park</td>\n",
       "      <td>499.0</td>\n",
       "      <td>41.9244</td>\n",
       "      <td>-87.7154</td>\n",
       "      <td>41.9306</td>\n",
       "      <td>-87.7238</td>\n",
       "      <td>member</td>\n",
       "    </tr>\n",
       "    <tr>\n",
       "      <th>2</th>\n",
       "      <td>5DD24A79A4E006F4</td>\n",
       "      <td>docked_bike</td>\n",
       "      <td>4/1/2020 17:54</td>\n",
       "      <td>4/1/2020 18:08</td>\n",
       "      <td>McClurg Ct &amp; Erie St</td>\n",
       "      <td>142.0</td>\n",
       "      <td>Indiana Ave &amp; Roosevelt Rd</td>\n",
       "      <td>255.0</td>\n",
       "      <td>41.8945</td>\n",
       "      <td>-87.6179</td>\n",
       "      <td>41.8679</td>\n",
       "      <td>-87.6230</td>\n",
       "      <td>member</td>\n",
       "    </tr>\n",
       "    <tr>\n",
       "      <th>3</th>\n",
       "      <td>2A59BBDF5CDBA725</td>\n",
       "      <td>docked_bike</td>\n",
       "      <td>4/7/2020 12:50</td>\n",
       "      <td>4/7/2020 13:02</td>\n",
       "      <td>California Ave &amp; Division St</td>\n",
       "      <td>216.0</td>\n",
       "      <td>Wood St &amp; Augusta Blvd</td>\n",
       "      <td>657.0</td>\n",
       "      <td>41.9030</td>\n",
       "      <td>-87.6975</td>\n",
       "      <td>41.8992</td>\n",
       "      <td>-87.6722</td>\n",
       "      <td>member</td>\n",
       "    </tr>\n",
       "    <tr>\n",
       "      <th>4</th>\n",
       "      <td>27AD306C119C6158</td>\n",
       "      <td>docked_bike</td>\n",
       "      <td>4/18/2020 10:22</td>\n",
       "      <td>4/18/2020 11:15</td>\n",
       "      <td>Rush St &amp; Hubbard St</td>\n",
       "      <td>125.0</td>\n",
       "      <td>Sheridan Rd &amp; Lawrence Ave</td>\n",
       "      <td>323.0</td>\n",
       "      <td>41.8902</td>\n",
       "      <td>-87.6262</td>\n",
       "      <td>41.9695</td>\n",
       "      <td>-87.6547</td>\n",
       "      <td>casual</td>\n",
       "    </tr>\n",
       "  </tbody>\n",
       "</table>\n",
       "</div>"
      ],
      "text/plain": [
       "            ride_id rideable_type       started_at         ended_at  \\\n",
       "0  A847FADBBC638E45   docked_bike  4/26/2020 17:45  4/26/2020 18:12   \n",
       "1  5405B80E996FF60D   docked_bike  4/17/2020 17:08  4/17/2020 17:17   \n",
       "2  5DD24A79A4E006F4   docked_bike   4/1/2020 17:54   4/1/2020 18:08   \n",
       "3  2A59BBDF5CDBA725   docked_bike   4/7/2020 12:50   4/7/2020 13:02   \n",
       "4  27AD306C119C6158   docked_bike  4/18/2020 10:22  4/18/2020 11:15   \n",
       "\n",
       "             start_station_name  start_station_id  \\\n",
       "0                  Eckhart Park              86.0   \n",
       "1     Drake Ave & Fullerton Ave             503.0   \n",
       "2          McClurg Ct & Erie St             142.0   \n",
       "3  California Ave & Division St             216.0   \n",
       "4          Rush St & Hubbard St             125.0   \n",
       "\n",
       "              end_station_name  end_station_id  start_lat  start_lng  end_lat  \\\n",
       "0  Lincoln Ave & Diversey Pkwy           152.0    41.8964   -87.6610  41.9322   \n",
       "1              Kosciuszko Park           499.0    41.9244   -87.7154  41.9306   \n",
       "2   Indiana Ave & Roosevelt Rd           255.0    41.8945   -87.6179  41.8679   \n",
       "3       Wood St & Augusta Blvd           657.0    41.9030   -87.6975  41.8992   \n",
       "4   Sheridan Rd & Lawrence Ave           323.0    41.8902   -87.6262  41.9695   \n",
       "\n",
       "   end_lng member_casual  \n",
       "0 -87.6586        member  \n",
       "1 -87.7238        member  \n",
       "2 -87.6230        member  \n",
       "3 -87.6722        member  \n",
       "4 -87.6547        casual  "
      ]
     },
     "execution_count": 9,
     "metadata": {},
     "output_type": "execute_result"
    }
   ],
   "source": [
    "# dataset\n",
    "file_path = 'C:\\\\Users\\\\User\\\\Desktop\\\\Data analytics\\\\Cyclist data\\\\combined_divvy_tripdata.csv'\n",
    "df = pd.read_csv(file_path)\n",
    "df.head()\n"
   ]
  },
  {
   "cell_type": "code",
   "execution_count": 10,
   "id": "b11deaeb-3351-4bef-8906-3aa52f8eb0d4",
   "metadata": {},
   "outputs": [
    {
     "name": "stdout",
     "output_type": "stream",
     "text": [
      "Missing values in each column:\n",
      " ride_id                  0\n",
      "rideable_type            0\n",
      "started_at               0\n",
      "ended_at                 0\n",
      "start_station_name     131\n",
      "start_station_id       134\n",
      "end_station_name      1622\n",
      "end_station_id        1624\n",
      "start_lat                0\n",
      "start_lng                0\n",
      "end_lat               1453\n",
      "end_lng               1453\n",
      "member_casual            0\n",
      "dtype: int64\n",
      "\n",
      "Data types of each column:\n",
      " ride_id                object\n",
      "rideable_type          object\n",
      "started_at             object\n",
      "ended_at               object\n",
      "start_station_name     object\n",
      "start_station_id      float64\n",
      "end_station_name       object\n",
      "end_station_id        float64\n",
      "start_lat             float64\n",
      "start_lng             float64\n",
      "end_lat               float64\n",
      "end_lng               float64\n",
      "member_casual          object\n",
      "dtype: object\n"
     ]
    }
   ],
   "source": [
    "# missing values\n",
    "missing_values = df.isnull().sum()\n",
    "print(\"Missing values in each column:\\n\", missing_values)\n",
    "\n",
    "# data types\n",
    "print(\"\\nData types of each column:\\n\", df.dtypes)\n"
   ]
  },
  {
   "cell_type": "code",
   "execution_count": 11,
   "id": "f72ad5aa-7e3d-493e-94b5-7b36ccb936a7",
   "metadata": {},
   "outputs": [
    {
     "name": "stdout",
     "output_type": "stream",
     "text": [
      "Missing values after cleaning:\n",
      " ride_id               0\n",
      "rideable_type         0\n",
      "started_at            0\n",
      "ended_at              0\n",
      "start_station_name    0\n",
      "start_station_id      0\n",
      "end_station_name      0\n",
      "end_station_id        0\n",
      "start_lat             0\n",
      "start_lng             0\n",
      "end_lat               0\n",
      "end_lng               0\n",
      "member_casual         0\n",
      "dtype: int64\n"
     ]
    }
   ],
   "source": [
    "# Dropping rows with missing values \n",
    "df_cleaned = df.dropna()\n",
    "\n",
    "\n",
    "# Checkibg if missing values have been handled\n",
    "print(\"Missing values after cleaning:\\n\", df_cleaned.isnull().sum())\n"
   ]
  },
  {
   "cell_type": "code",
   "execution_count": 13,
   "id": "ed54740f-19e8-4771-bd6e-89bc3c12bd2c",
   "metadata": {},
   "outputs": [
    {
     "name": "stdout",
     "output_type": "stream",
     "text": [
      "\n",
      "Data types after conversion:\n",
      " ride_id                       object\n",
      "rideable_type                 object\n",
      "started_at            datetime64[ns]\n",
      "ended_at              datetime64[ns]\n",
      "start_station_name            object\n",
      "start_station_id             float64\n",
      "end_station_name              object\n",
      "end_station_id               float64\n",
      "start_lat                    float64\n",
      "start_lng                    float64\n",
      "end_lat                      float64\n",
      "end_lng                      float64\n",
      "member_casual                 object\n",
      "dtype: object\n"
     ]
    }
   ],
   "source": [
    "# Convert 'started_at' and 'ended_at' columns to datetime using .loc to avoid SettingWithCopyWarning\n",
    "df_cleaned.loc[:, 'started_at'] = pd.to_datetime(df_cleaned['started_at'])\n",
    "df_cleaned.loc[:, 'ended_at'] = pd.to_datetime(df_cleaned['ended_at'])\n",
    "\n",
    "# changes\n",
    "print(\"\\nData types after conversion:\\n\", df_cleaned.dtypes)\n",
    "\n"
   ]
  },
  {
   "cell_type": "code",
   "execution_count": 15,
   "id": "4cf1ad27-6a33-45ad-a54e-84a0791fdfa6",
   "metadata": {},
   "outputs": [
    {
     "name": "stdout",
     "output_type": "stream",
     "text": [
      "\n",
      "Number of duplicates after cleaning: 0\n"
     ]
    },
    {
     "data": {
      "text/plain": [
       "count    1.037420e+06\n",
       "mean     3.541924e+01\n",
       "std      3.234740e+02\n",
       "min      1.000000e+00\n",
       "25%      1.000000e+01\n",
       "50%      1.800000e+01\n",
       "75%      3.100000e+01\n",
       "max      5.872000e+04\n",
       "Name: ride_length, dtype: float64"
      ]
     },
     "execution_count": 15,
     "metadata": {},
     "output_type": "execute_result"
    }
   ],
   "source": [
    "# Remove duplicate rows\n",
    "df_cleaned = df_cleaned.drop_duplicates()\n",
    "\n",
    "# checking if duplicates are removed\n",
    "print(\"\\nNumber of duplicates after cleaning:\", df_cleaned.duplicated().sum())\n",
    "\n",
    "# Calculate ride length in minutes\n",
    "df_cleaned['ride_length'] = (df_cleaned['ended_at'] - df_cleaned['started_at']).dt.total_seconds() / 60\n",
    "\n",
    "# Optionally, remove rides with negative or excessively long ride lengths\n",
    "df_cleaned = df_cleaned[df_cleaned['ride_length'] > 0]\n",
    "\n",
    "# Verify the changes\n",
    "df_cleaned['ride_length'].describe()\n",
    "\n"
   ]
  },
  {
   "cell_type": "code",
   "execution_count": 16,
   "id": "42f7e061-0210-4cd8-bcbc-467144f02064",
   "metadata": {},
   "outputs": [
    {
     "name": "stdout",
     "output_type": "stream",
     "text": [
      "Cleaned data saved successfully!\n"
     ]
    }
   ],
   "source": [
    "# Saving the cleaned data to a new CSV file\n",
    "output_file_path = 'C:\\\\Users\\\\User\\\\Desktop\\\\Data analytics\\\\Cyclist data\\\\cleaned_divvy_tripdata.csv'\n",
    "df_cleaned.to_csv(output_file_path, index=False)\n",
    "\n",
    "print(\"Cleaned data saved successfully!\")\n"
   ]
  },
  {
   "cell_type": "code",
   "execution_count": null,
   "id": "b356e68e-6e54-4d96-b1f5-766c19a2d996",
   "metadata": {},
   "outputs": [],
   "source": []
  }
 ],
 "metadata": {
  "kernelspec": {
   "display_name": "Python 3 (ipykernel)",
   "language": "python",
   "name": "python3"
  },
  "language_info": {
   "codemirror_mode": {
    "name": "ipython",
    "version": 3
   },
   "file_extension": ".py",
   "mimetype": "text/x-python",
   "name": "python",
   "nbconvert_exporter": "python",
   "pygments_lexer": "ipython3",
   "version": "3.11.7"
  }
 },
 "nbformat": 4,
 "nbformat_minor": 5
}
